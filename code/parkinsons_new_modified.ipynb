{
 "cells": [
  {
   "cell_type": "code",
   "execution_count": 6,
   "metadata": {},
   "outputs": [],
   "source": [
    "import pandas as pd\n",
    "import seaborn as sns\n",
    "from sklearn.model_selection import train_test_split as tts\n",
    "from sklearn.ensemble import RandomForestClassifier\n",
    "from sklearn.metrics import accuracy_score,matthews_corrcoef as mat,confusion_matrix,roc_auc_score,classification_report\n",
    "from sklearn.model_selection import GridSearchCV\n",
    "from catboost import CatBoostClassifier\n",
    "from xgboost import XGBClassifier\n",
    "from imblearn.over_sampling import SMOTE\n",
    "from sklearn.feature_selection import SelectKBest\n",
    "from sklearn.feature_selection import chi2\n",
    "from sklearn.preprocessing import MinMaxScaler\n",
    "\n",
    "from sklearn.ensemble import ExtraTreesClassifier\n",
    "import matplotlib.pyplot as plt"
   ]
  },
  {
   "cell_type": "code",
   "execution_count": 9,
   "metadata": {},
   "outputs": [],
   "source": [
    "df=pd.read_csv(\"parkinsons.csv\")"
   ]
  },
  {
   "cell_type": "code",
   "execution_count": 10,
   "metadata": {},
   "outputs": [],
   "source": [
    "x=df.drop(['status','name'],axis=1)\n",
    "norm = MinMaxScaler().fit(x)\n",
    "X= norm.transform(x)\n",
    "\n",
    "y=df['status']\n",
    "x_train,x_test,y_train,y_test=tts(X,y,test_size=0.3,random_state=10)"
   ]
  },
  {
   "cell_type": "code",
   "execution_count": 11,
   "metadata": {},
   "outputs": [
    {
     "name": "stdout",
     "output_type": "stream",
     "text": [
      "               Specs     Score\n",
      "2       MDVP:Flo(Hz)  3.355342\n",
      "18           spread1  3.308019\n",
      "21               PPE  3.150308\n",
      "10      Shimmer:APQ3  2.656304\n",
      "13       Shimmer:DDA  2.655040\n",
      "8       MDVP:Shimmer  2.622205\n",
      "11      Shimmer:APQ5  2.417668\n",
      "9   MDVP:Shimmer(dB)  2.339823\n",
      "12          MDVP:APQ  1.996787\n",
      "19           spread2  1.455480\n",
      "16              RPDE  1.425923\n",
      "6           MDVP:PPQ  1.389665\n"
     ]
    }
   ],
   "source": [
    "bestfeatures = SelectKBest(score_func=chi2, k=12)\n",
    "fit = bestfeatures.fit(x_train,y_train)\n",
    "dfscores = pd.DataFrame(fit.scores_)\n",
    "dfcolumns = pd.DataFrame(x.columns)\n",
    "featureScores = pd.concat([dfcolumns,dfscores],axis=1)\n",
    "featureScores.columns = ['Specs','Score'] \n",
    "featureScores['Specs'].values\n",
    "print(featureScores.nlargest(12,'Score')) "
   ]
  },
  {
   "cell_type": "code",
   "execution_count": 12,
   "metadata": {},
   "outputs": [
    {
     "data": {
      "text/plain": [
       "<AxesSubplot:xlabel='status', ylabel='count'>"
      ]
     },
     "execution_count": 12,
     "metadata": {},
     "output_type": "execute_result"
    },
    {
     "data": {
      "image/png": "[encoded data removed]",
      "text/plain": [
       "<Figure size 432x288 with 1 Axes>"
      ]
     },
     "metadata": {
      "needs_background": "light"
     },
     "output_type": "display_data"
    }
   ],
   "source": [
    "from imblearn.combine import SMOTETomek\n",
    "smk = SMOTE(random_state=5)\n",
    "\n",
    "## fit_resample() <- fit_sample\n",
    "X_res,y_res=smk.fit_resample(x_train,y_train)\n",
    "sns.countplot(x=y_res)"
   ]
  },
  {
   "cell_type": "code",
   "execution_count": 13,
   "metadata": {},
   "outputs": [
    {
     "name": "stdout",
     "output_type": "stream",
     "text": [
      "0:\tlearn: 0.6504013\ttotal: 217ms\tremaining: 15s\n",
      "1:\tlearn: 0.6111297\ttotal: 271ms\tremaining: 9.22s\n",
      "2:\tlearn: 0.5723925\ttotal: 322ms\tremaining: 7.18s\n",
      "3:\tlearn: 0.5397645\ttotal: 370ms\tremaining: 6.1s\n",
      "4:\tlearn: 0.5035074\ttotal: 417ms\tremaining: 5.42s\n",
      "5:\tlearn: 0.4711968\ttotal: 466ms\tremaining: 4.97s\n",
      "6:\tlearn: 0.4415536\ttotal: 555ms\tremaining: 5s\n",
      "7:\tlearn: 0.4145680\ttotal: 598ms\tremaining: 4.63s\n",
      "8:\tlearn: 0.3908207\ttotal: 645ms\tremaining: 4.37s\n",
      "9:\tlearn: 0.3653855\ttotal: 692ms\tremaining: 4.15s\n",
      "10:\tlearn: 0.3463943\ttotal: 739ms\tremaining: 3.96s\n",
      "11:\tlearn: 0.3264368\ttotal: 784ms\tremaining: 3.79s\n",
      "12:\tlearn: 0.3098170\ttotal: 794ms\tremaining: 3.48s\n",
      "13:\tlearn: 0.2955904\ttotal: 841ms\tremaining: 3.36s\n",
      "14:\tlearn: 0.2827370\ttotal: 892ms\tremaining: 3.27s\n",
      "15:\tlearn: 0.2708464\ttotal: 937ms\tremaining: 3.16s\n",
      "16:\tlearn: 0.2616855\ttotal: 988ms\tremaining: 3.08s\n",
      "17:\tlearn: 0.2471271\ttotal: 1.03s\tremaining: 2.98s\n",
      "18:\tlearn: 0.2368538\ttotal: 1.09s\tremaining: 2.92s\n",
      "19:\tlearn: 0.2242304\ttotal: 1.14s\tremaining: 2.85s\n",
      "20:\tlearn: 0.2153285\ttotal: 1.19s\tremaining: 2.77s\n",
      "21:\tlearn: 0.2061907\ttotal: 1.24s\tremaining: 2.71s\n",
      "22:\tlearn: 0.1988544\ttotal: 1.29s\tremaining: 2.65s\n",
      "23:\tlearn: 0.1912759\ttotal: 1.35s\tremaining: 2.58s\n",
      "24:\tlearn: 0.1843490\ttotal: 1.4s\tremaining: 2.52s\n",
      "25:\tlearn: 0.1766031\ttotal: 1.45s\tremaining: 2.45s\n",
      "26:\tlearn: 0.1690740\ttotal: 1.51s\tremaining: 2.4s\n",
      "27:\tlearn: 0.1634101\ttotal: 1.56s\tremaining: 2.34s\n",
      "28:\tlearn: 0.1565395\ttotal: 1.62s\tremaining: 2.29s\n",
      "29:\tlearn: 0.1498942\ttotal: 1.67s\tremaining: 2.23s\n",
      "30:\tlearn: 0.1438861\ttotal: 1.73s\tremaining: 2.18s\n",
      "31:\tlearn: 0.1390612\ttotal: 1.79s\tremaining: 2.12s\n",
      "32:\tlearn: 0.1331987\ttotal: 1.83s\tremaining: 2.06s\n",
      "33:\tlearn: 0.1297269\ttotal: 1.88s\tremaining: 1.99s\n",
      "34:\tlearn: 0.1264869\ttotal: 1.93s\tremaining: 1.93s\n",
      "35:\tlearn: 0.1228009\ttotal: 1.98s\tremaining: 1.87s\n",
      "36:\tlearn: 0.1181681\ttotal: 2.06s\tremaining: 1.84s\n",
      "37:\tlearn: 0.1144555\ttotal: 2.19s\tremaining: 1.84s\n",
      "38:\tlearn: 0.1108413\ttotal: 2.39s\tremaining: 1.9s\n",
      "39:\tlearn: 0.1077328\ttotal: 2.53s\tremaining: 1.9s\n",
      "40:\tlearn: 0.1046255\ttotal: 2.63s\tremaining: 1.86s\n",
      "41:\tlearn: 0.1012546\ttotal: 2.71s\tremaining: 1.81s\n",
      "42:\tlearn: 0.0987077\ttotal: 2.79s\tremaining: 1.75s\n",
      "43:\tlearn: 0.0960893\ttotal: 2.89s\tremaining: 1.71s\n",
      "44:\tlearn: 0.0933140\ttotal: 3.01s\tremaining: 1.67s\n",
      "45:\tlearn: 0.0908267\ttotal: 3.13s\tremaining: 1.63s\n",
      "46:\tlearn: 0.0890173\ttotal: 3.22s\tremaining: 1.58s\n",
      "47:\tlearn: 0.0867437\ttotal: 3.3s\tremaining: 1.51s\n",
      "48:\tlearn: 0.0847871\ttotal: 3.38s\tremaining: 1.45s\n",
      "49:\tlearn: 0.0825016\ttotal: 3.52s\tremaining: 1.41s\n",
      "50:\tlearn: 0.0804762\ttotal: 3.64s\tremaining: 1.35s\n",
      "51:\tlearn: 0.0788877\ttotal: 3.75s\tremaining: 1.3s\n",
      "52:\tlearn: 0.0768914\ttotal: 3.86s\tremaining: 1.24s\n",
      "53:\tlearn: 0.0755014\ttotal: 3.97s\tremaining: 1.18s\n",
      "54:\tlearn: 0.0734005\ttotal: 4.08s\tremaining: 1.11s\n",
      "55:\tlearn: 0.0712994\ttotal: 4.2s\tremaining: 1.05s\n",
      "56:\tlearn: 0.0692305\ttotal: 4.32s\tremaining: 985ms\n",
      "57:\tlearn: 0.0676841\ttotal: 4.44s\tremaining: 918ms\n",
      "58:\tlearn: 0.0661612\ttotal: 4.53s\tremaining: 845ms\n",
      "59:\tlearn: 0.0644670\ttotal: 4.62s\tremaining: 770ms\n",
      "60:\tlearn: 0.0633495\ttotal: 4.71s\tremaining: 694ms\n",
      "61:\tlearn: 0.0620388\ttotal: 4.8s\tremaining: 619ms\n",
      "62:\tlearn: 0.0609298\ttotal: 4.88s\tremaining: 543ms\n",
      "63:\tlearn: 0.0599129\ttotal: 4.96s\tremaining: 465ms\n",
      "64:\tlearn: 0.0587546\ttotal: 5.07s\tremaining: 390ms\n",
      "65:\tlearn: 0.0573967\ttotal: 5.21s\tremaining: 316ms\n",
      "66:\tlearn: 0.0561604\ttotal: 5.31s\tremaining: 238ms\n",
      "67:\tlearn: 0.0550143\ttotal: 5.37s\tremaining: 158ms\n",
      "68:\tlearn: 0.0541427\ttotal: 5.42s\tremaining: 78.6ms\n",
      "69:\tlearn: 0.0532923\ttotal: 5.48s\tremaining: 0us\n"
     ]
    },
    {
     "data": {
      "text/plain": [
       "<catboost.core.CatBoostClassifier at 0x15704f75700>"
      ]
     },
     "execution_count": 13,
     "metadata": {},
     "output_type": "execute_result"
    }
   ],
   "source": [
    "new_model=CatBoostClassifier(depth=10, iterations=70, learning_rate= 0.04)\n",
    "new_model.fit(X_res, y_res)"
   ]
  },
  {
   "cell_type": "code",
   "execution_count": 14,
   "metadata": {},
   "outputs": [
    {
     "data": {
      "text/plain": [
       "0.9661016949152542"
      ]
     },
     "execution_count": 14,
     "metadata": {},
     "output_type": "execute_result"
    }
   ],
   "source": [
    "y_pred=new_model.predict(x_test)\n",
    "acc2=accuracy_score(y_test,y_pred)\n",
    "acc2"
   ]
  },
  {
   "cell_type": "code",
   "execution_count": 15,
   "metadata": {},
   "outputs": [
    {
     "name": "stdout",
     "output_type": "stream",
     "text": [
      "              precision    recall  f1-score   support\n",
      "\n",
      "           0       0.94      0.94      0.94        16\n",
      "           1       0.98      0.98      0.98        43\n",
      "\n",
      "    accuracy                           0.97        59\n",
      "   macro avg       0.96      0.96      0.96        59\n",
      "weighted avg       0.97      0.97      0.97        59\n",
      "\n"
     ]
    },
    {
     "data": {
      "text/plain": [
       "0.9142441860465116"
      ]
     },
     "execution_count": 15,
     "metadata": {},
     "output_type": "execute_result"
    }
   ],
   "source": [
    "print(classification_report(y_test,y_pred))\n",
    "math2=mat(y_test,y_pred)\n",
    "math2"
   ]
  },
  {
   "cell_type": "code",
   "execution_count": 16,
   "metadata": {},
   "outputs": [
    {
     "data": {
      "text/plain": [
       "XGBClassifier(base_score=0.5, booster='gbtree', colsample_bylevel=1,\n",
       "              colsample_bynode=1, colsample_bytree=0.5, eval_metric='error',\n",
       "              gamma=0.0, gpu_id=-1, importance_type='gain',\n",
       "              interaction_constraints='', learning_rate=0.2, max_delta_step=0,\n",
       "              max_depth=6, min_child_weight=1, missing=1,\n",
       "              monotone_constraints='()', n_estimators=100, n_jobs=1, nthread=1,\n",
       "              num_parallel_tree=1, random_state=0, reg_alpha=0, reg_lambda=1,\n",
       "              scale_pos_weight=1, seed=0, silent=None, subsample=1,\n",
       "              tree_method='exact', use_label_encoder=False,\n",
       "              validate_parameters=1, ...)"
      ]
     },
     "execution_count": 16,
     "metadata": {},
     "output_type": "execute_result"
    }
   ],
   "source": [
    "### eval_metric='error' - te remove deprecation warning\n",
    "### missing = 1 instead of 'None'\n",
    "### use_label_encoder=False\n",
    "\n",
    "xgb=XGBClassifier(base_score=0.5, booster='gbtree', colsample_bylevel=1,\n",
    "              colsample_bynode=1, colsample_bytree=0.5, gamma=0.0,\n",
    "              learning_rate=0.2, max_delta_step=0, max_depth=6,\n",
    "              min_child_weight=1, missing=1, n_estimators=100, n_jobs=1,\n",
    "              nthread=None, objective='binary:logistic', random_state=0,\n",
    "              reg_alpha=0, reg_lambda=1, scale_pos_weight=1, seed=None,\n",
    "              silent=None, subsample=1, verbosity=1, eval_metric='error',\n",
    "              use_label_encoder=False)\n",
    "xgb.fit(X_res,y_res)"
   ]
  },
  {
   "cell_type": "code",
   "execution_count": 17,
   "metadata": {},
   "outputs": [],
   "source": [
    "predict_xgb=xgb.predict(x_test)\n",
    "accu_xgb=accuracy_score(y_test,predict_xgb)"
   ]
  },
  {
   "cell_type": "code",
   "execution_count": 18,
   "metadata": {},
   "outputs": [
    {
     "data": {
      "text/plain": [
       "0.9491525423728814"
      ]
     },
     "execution_count": 18,
     "metadata": {},
     "output_type": "execute_result"
    }
   ],
   "source": [
    "accu_xgb"
   ]
  },
  {
   "cell_type": "code",
   "execution_count": 19,
   "metadata": {},
   "outputs": [
    {
     "name": "stdout",
     "output_type": "stream",
     "text": [
      "              precision    recall  f1-score   support\n",
      "\n",
      "           0       0.88      0.94      0.91        16\n",
      "           1       0.98      0.95      0.96        43\n",
      "\n",
      "    accuracy                           0.95        59\n",
      "   macro avg       0.93      0.95      0.94        59\n",
      "weighted avg       0.95      0.95      0.95        59\n",
      "\n"
     ]
    },
    {
     "data": {
      "text/plain": [
       "0.8746154593939881"
      ]
     },
     "execution_count": 19,
     "metadata": {},
     "output_type": "execute_result"
    }
   ],
   "source": [
    "print(classification_report(y_test,predict_xgb))\n",
    "math2=mat(y_test,predict_xgb)\n",
    "math2"
   ]
  },
  {
   "cell_type": "code",
   "execution_count": 20,
   "metadata": {},
   "outputs": [
    {
     "data": {
      "text/plain": [
       "RandomForestClassifier(max_depth=9, n_estimators=200)"
      ]
     },
     "execution_count": 20,
     "metadata": {},
     "output_type": "execute_result"
    }
   ],
   "source": [
    "model=RandomForestClassifier(criterion='gini',max_depth= 9, n_estimators= 200)\n",
    "model.fit(X_res,y_res)"
   ]
  },
  {
   "cell_type": "code",
   "execution_count": 21,
   "metadata": {},
   "outputs": [
    {
     "data": {
      "text/plain": [
       "ExtraTreesClassifier()"
      ]
     },
     "execution_count": 21,
     "metadata": {},
     "output_type": "execute_result"
    }
   ],
   "source": [
    "\n",
    "modelExtra=ExtraTreesClassifier()\n",
    "modelExtra.fit(x_train,y_train)"
   ]
  },
  {
   "cell_type": "code",
   "execution_count": 22,
   "metadata": {},
   "outputs": [
    {
     "name": "stdout",
     "output_type": "stream",
     "text": [
      "89.83050847457628\n"
     ]
    }
   ],
   "source": [
    "\n",
    "y_predExtra=modelExtra.predict(x_test)\n",
    "print(accuracy_score(y_test, y_predExtra)*100)"
   ]
  },
  {
   "cell_type": "code",
   "execution_count": null,
   "metadata": {},
   "outputs": [],
   "source": []
  },
  {
   "cell_type": "code",
   "execution_count": null,
   "metadata": {},
   "outputs": [],
   "source": []
  },
  {
   "cell_type": "code",
   "execution_count": null,
   "metadata": {},
   "outputs": [],
   "source": []
  },
  {
   "cell_type": "code",
   "execution_count": null,
   "metadata": {},
   "outputs": [],
   "source": []
  },
  {
   "cell_type": "code",
   "execution_count": null,
   "metadata": {},
   "outputs": [],
   "source": []
  }
 ],
 "metadata": {
  "kernelspec": {
   "display_name": "Python 3 (ipykernel)",
   "language": "python",
   "name": "python3"
  },
  "language_info": {
   "codemirror_mode": {
    "name": "ipython",
    "version": 3
   },
   "file_extension": ".py",
   "mimetype": "text/x-python",
   "name": "python",
   "nbconvert_exporter": "python",
   "pygments_lexer": "ipython3",
   "version": "3.9.2"
  }
 },
 "nbformat": 4,
 "nbformat_minor": 2
}
